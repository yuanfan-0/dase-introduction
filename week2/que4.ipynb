{
 "cells": [
  {
   "cell_type": "code",
   "execution_count": 4,
   "id": "2807fec4",
   "metadata": {},
   "outputs": [
    {
     "name": "stdout",
     "output_type": "stream",
     "text": [
      "1.4141800000027134\n"
     ]
    }
   ],
   "source": [
    "import math\n",
    "def sqrt_2():\n",
    "    target = 1 \n",
    "    while(math.fabs(target * target - 2.0) > 0.0001):\n",
    "        target += 0.00001\n",
    "    print(target)\n",
    "sqrt_2()\n",
    "    "
   ]
  },
  {
   "cell_type": "code",
   "execution_count": null,
   "id": "1c496e0a",
   "metadata": {},
   "outputs": [],
   "source": []
  }
 ],
 "metadata": {
  "kernelspec": {
   "display_name": "Python 3",
   "language": "python",
   "name": "python3"
  },
  "language_info": {
   "codemirror_mode": {
    "name": "ipython",
    "version": 3
   },
   "file_extension": ".py",
   "mimetype": "text/x-python",
   "name": "python",
   "nbconvert_exporter": "python",
   "pygments_lexer": "ipython3",
   "version": "3.8.8"
  }
 },
 "nbformat": 4,
 "nbformat_minor": 5
}
