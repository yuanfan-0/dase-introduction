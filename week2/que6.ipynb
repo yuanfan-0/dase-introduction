{
 "cells": [
  {
   "cell_type": "code",
   "execution_count": 4,
   "id": "2264a63f",
   "metadata": {},
   "outputs": [
    {
     "name": "stdout",
     "output_type": "stream",
     "text": [
      "g设为c/2的运行结果为:1.4142\n",
      "g设为c/1的运行结果为:1.4142\n",
      "g设为c/4的运行结果为:1.4142\n"
     ]
    }
   ],
   "source": [
    "def newton(m):\n",
    "    c = 2\n",
    "    g = c / m\n",
    "    while(abs( g * g - c) > 0.0000000000001):\n",
    "        g = (g + c/g)/2\n",
    "    print('g设为c/%d的运行结果为:%.4f'%(m,g))\n",
    "newton(2)\n",
    "newton(1)\n",
    "newton(4)"
   ]
  },
  {
   "cell_type": "code",
   "execution_count": null,
   "id": "e7ba11ca",
   "metadata": {},
   "outputs": [],
   "source": []
  }
 ],
 "metadata": {
  "kernelspec": {
   "display_name": "Python 3",
   "language": "python",
   "name": "python3"
  },
  "language_info": {
   "codemirror_mode": {
    "name": "ipython",
    "version": 3
   },
   "file_extension": ".py",
   "mimetype": "text/x-python",
   "name": "python",
   "nbconvert_exporter": "python",
   "pygments_lexer": "ipython3",
   "version": "3.8.8"
  }
 },
 "nbformat": 4,
 "nbformat_minor": 5
}
