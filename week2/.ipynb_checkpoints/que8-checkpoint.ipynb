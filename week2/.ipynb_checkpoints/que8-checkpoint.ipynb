{
 "cells": [
  {
   "cell_type": "code",
   "execution_count": 9,
   "id": "216ebfa7",
   "metadata": {},
   "outputs": [
    {
     "name": "stdout",
     "output_type": "stream",
     "text": [
      "用蒙特卡洛法计算出的pi值为:3.1422212000\n",
      "用割圆迭代法计算的pi值为3.1416742650\n",
      "用莱布尼茨计算pi的值为:3.1415916536\n"
     ]
    }
   ],
   "source": [
    "import random\n",
    "import math\n",
    "#蒙特卡洛法计算pi值\n",
    "def Monte_Carlo():\n",
    "    count = 0\n",
    "    times = 10000000\n",
    "    for i in range(times):\n",
    "        x = random.random()\n",
    "        y = random.random()\n",
    "        \n",
    "        if(x ** 2 + y ** 2 < 1):\n",
    "            count += 1\n",
    "    print(\"用蒙特卡洛法计算出的pi值为:%.10f\"%(count / times * 4))\n",
    "\n",
    "#割圆迭代法计算pi值\n",
    "def cut_iterate():\n",
    "    #在单位圆中内接正六边形的变长为1\n",
    "    a = 1\n",
    "    n = 6\n",
    "    for i in range(20):\n",
    "        a = math.sqrt(2 - 2*math.sqrt(1 - a*a/4))\n",
    "        n = n*2\n",
    "    print(\"用割圆迭代法计算的pi值为%.10f\"%(n * a / 2))\n",
    "    \n",
    "#用莱布尼茨级数计算pi值\n",
    "def Leibniz():\n",
    "    target = 0\n",
    "    for i in range(1000000):\n",
    "        target += ((-1) ** i) /(2*i+1)\n",
    "    print(\"用莱布尼茨计算pi的值为:%.10f\"%(4 * target))\n",
    "Monte_Carlo()\n",
    "cut_iterate()\n",
    "Leibniz()"
   ]
  },
  {
   "cell_type": "code",
   "execution_count": null,
   "id": "26ca0f23",
   "metadata": {},
   "outputs": [],
   "source": []
  }
 ],
 "metadata": {
  "kernelspec": {
   "display_name": "Python 3",
   "language": "python",
   "name": "python3"
  },
  "language_info": {
   "codemirror_mode": {
    "name": "ipython",
    "version": 3
   },
   "file_extension": ".py",
   "mimetype": "text/x-python",
   "name": "python",
   "nbconvert_exporter": "python",
   "pygments_lexer": "ipython3",
   "version": "3.8.8"
  }
 },
 "nbformat": 4,
 "nbformat_minor": 5
}
