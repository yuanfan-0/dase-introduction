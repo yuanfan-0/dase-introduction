{
 "cells": [
  {
   "cell_type": "code",
   "execution_count": 17,
   "id": "b2ce327f",
   "metadata": {},
   "outputs": [
    {
     "name": "stdout",
     "output_type": "stream",
     "text": [
      "用蒙特卡洛法计算出的定积分值为11.8190\n"
     ]
    }
   ],
   "source": [
    "import random\n",
    "import math\n",
    "def montecarlo_definite_integral():\n",
    "    count = 0\n",
    "    times = 1000000\n",
    "    for i in range(times):\n",
    "        x = random.uniform(2,3)\n",
    "        y = random.uniform(-30,30)\n",
    "        if y < 0 :\n",
    "           if x*x + 4*x*math.sin(x) < y :\n",
    "                count -= 1\n",
    "        else:\n",
    "            if(x*x + 4*x*math.sin(x)) > y:\n",
    "                count += 1\n",
    "    print(\"用蒙特卡洛法计算出的定积分值为%.4f\"%(count / times * 60))\n",
    "montecarlo_definite_integral()"
   ]
  },
  {
   "cell_type": "code",
   "execution_count": null,
   "id": "38c12be2",
   "metadata": {},
   "outputs": [],
   "source": []
  },
  {
   "cell_type": "code",
   "execution_count": null,
   "id": "2ef43aa1",
   "metadata": {},
   "outputs": [],
   "source": []
  }
 ],
 "metadata": {
  "kernelspec": {
   "display_name": "Python 3",
   "language": "python",
   "name": "python3"
  },
  "language_info": {
   "codemirror_mode": {
    "name": "ipython",
    "version": 3
   },
   "file_extension": ".py",
   "mimetype": "text/x-python",
   "name": "python",
   "nbconvert_exporter": "python",
   "pygments_lexer": "ipython3",
   "version": "3.8.8"
  }
 },
 "nbformat": 4,
 "nbformat_minor": 5
}
