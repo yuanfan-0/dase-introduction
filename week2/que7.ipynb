{
 "cells": [
  {
   "cell_type": "code",
   "execution_count": 1,
   "id": "fe5fc4a0",
   "metadata": {},
   "outputs": [
    {
     "name": "stdout",
     "output_type": "stream",
     "text": [
      "c设为10的运行结果为:2.1544\n"
     ]
    }
   ],
   "source": [
    "def newton(c):\n",
    "    g = c / 2\n",
    "    while(abs( g ** 3 - c) > 0.0000000000001):\n",
    "        g = (2*g + c/(g**2))/3\n",
    "    print('c设为%d的运行结果为:%.4f'%(c,g))\n",
    "newton(10)"
   ]
  },
  {
   "cell_type": "code",
   "execution_count": null,
   "id": "8595eb7c",
   "metadata": {},
   "outputs": [],
   "source": []
  }
 ],
 "metadata": {
  "kernelspec": {
   "display_name": "Python 3",
   "language": "python",
   "name": "python3"
  },
  "language_info": {
   "codemirror_mode": {
    "name": "ipython",
    "version": 3
   },
   "file_extension": ".py",
   "mimetype": "text/x-python",
   "name": "python",
   "nbconvert_exporter": "python",
   "pygments_lexer": "ipython3",
   "version": "3.8.8"
  }
 },
 "nbformat": 4,
 "nbformat_minor": 5
}
