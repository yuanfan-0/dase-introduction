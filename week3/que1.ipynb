{
 "cells": [
  {
   "cell_type": "code",
   "execution_count": 10,
   "id": "da0eec3b",
   "metadata": {},
   "outputs": [
    {
     "name": "stdout",
     "output_type": "stream",
     "text": [
      "请输入要转化的小数(十进制):16.875\n",
      "16.875000转化为二进制表达为:10000.111\n"
     ]
    }
   ],
   "source": [
    "def float_decimal_to_binary( num ):\n",
    "    \n",
    "    #整数部分转换\n",
    "    int_part = int(num)\n",
    "    int_list = []\n",
    "    while(int_part):\n",
    "        x = int_part % 2\n",
    "        int_list.append(str(x))\n",
    "        int_part //= 2\n",
    "    int_list.reverse()\n",
    "    int_binary = \"\".join(int_list)\n",
    "    #小数部分转换\n",
    "    float_part = num - int(num)\n",
    "    count_temp = 0\n",
    "    float_list = []\n",
    "    while(float_part):\n",
    "        float_part *= 2\n",
    "        x = str(int(float_part))\n",
    "        float_list.append(x)\n",
    "        float_part = float_part - int(float_part)\n",
    "        count_temp += 1\n",
    "        if count_temp > 10:\n",
    "            break\n",
    "    float_binary = \"\".join(float_list)\n",
    "    \n",
    "    print(\"%f转化为二进制表达为:%s\"%(num,int_binary+'.'+float_binary))\n",
    "    \n",
    "num = float(input(\"请输入要转化的小数(十进制):\"))\n",
    "\n",
    "float_decimal_to_binary(num)\n",
    "    \n",
    "        "
   ]
  },
  {
   "cell_type": "code",
   "execution_count": null,
   "id": "34be44cf",
   "metadata": {},
   "outputs": [],
   "source": []
  },
  {
   "cell_type": "code",
   "execution_count": null,
   "id": "826105fb",
   "metadata": {},
   "outputs": [],
   "source": []
  }
 ],
 "metadata": {
  "kernelspec": {
   "display_name": "Python 3",
   "language": "python",
   "name": "python3"
  },
  "language_info": {
   "codemirror_mode": {
    "name": "ipython",
    "version": 3
   },
   "file_extension": ".py",
   "mimetype": "text/x-python",
   "name": "python",
   "nbconvert_exporter": "python",
   "pygments_lexer": "ipython3",
   "version": "3.8.8"
  }
 },
 "nbformat": 4,
 "nbformat_minor": 5
}
