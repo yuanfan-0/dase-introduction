{
 "cells": [
  {
   "cell_type": "code",
   "execution_count": 3,
   "id": "5c09a1da",
   "metadata": {},
   "outputs": [
    {
     "name": "stdout",
     "output_type": "stream",
     "text": [
      "...开始计时...\n",
      "耗时0.45\n"
     ]
    }
   ],
   "source": [
    "import time\n",
    "class Timer():\n",
    "    def __init__(self):\n",
    "        self.start = 0\n",
    "        self.end = 0\n",
    "        self.last = 0\n",
    "    def begin(self):\n",
    "        self.start = time.time()\n",
    "        print(\"...开始计时...\")\n",
    "    def stop(self):\n",
    "        self.end = time.time()\n",
    "        self.last = self.end - self.start\n",
    "        print(\"耗时%.2lf\"%(self.last))\n",
    "Timer1 = Timer()\n",
    "Timer1.begin()\n",
    "for i in range(1,10000000):\n",
    "    a=1\n",
    "Timer1.stop()\n",
    "        "
   ]
  },
  {
   "cell_type": "code",
   "execution_count": null,
   "id": "ff296898",
   "metadata": {},
   "outputs": [],
   "source": []
  }
 ],
 "metadata": {
  "kernelspec": {
   "display_name": "Python 3",
   "language": "python",
   "name": "python3"
  },
  "language_info": {
   "codemirror_mode": {
    "name": "ipython",
    "version": 3
   },
   "file_extension": ".py",
   "mimetype": "text/x-python",
   "name": "python",
   "nbconvert_exporter": "python",
   "pygments_lexer": "ipython3",
   "version": "3.8.8"
  }
 },
 "nbformat": 4,
 "nbformat_minor": 5
}
