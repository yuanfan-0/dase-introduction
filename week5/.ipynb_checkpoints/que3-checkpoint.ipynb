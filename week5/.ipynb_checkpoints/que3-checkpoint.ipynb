{
 "cells": [
  {
   "cell_type": "code",
   "execution_count": 1,
   "id": "475f4c43",
   "metadata": {},
   "outputs": [
    {
     "name": "stdout",
     "output_type": "stream",
     "text": [
      "[1, 2, 3, 4, 5]\n"
     ]
    }
   ],
   "source": [
    "def insertion_sort(data):\n",
    "    for i in range(1,len(data)):\n",
    "        for j in range(i,0,-1):\n",
    "            index = j\n",
    "            if data[j] < data[j-1]:\n",
    "                data[j],data[j-1] = data[j-1],data[j]\n",
    "    return\n",
    "\n",
    "data=[5,4,2,3,1]\n",
    "insertion_sort(data)\n",
    "print(data)\n",
    "            \n",
    "        \n",
    "            "
   ]
  },
  {
   "cell_type": "markdown",
   "id": "a4207fa8",
   "metadata": {},
   "source": [
    "#####     插入排序流程：\n",
    "- **从第二个元素开始，将其视为已排序部分，而第一个元素视为未排序部分。**\n",
    "\n",
    "- **从未排序部分取出一个元素，将其与已排序部分的元素逐个比较，找到合适的位置插入。这通常涉及到反复比较并交换元素，直到找到正确的插入位置。**\n",
    "\n",
    "- **重复步骤2，直到未排序部分的所有元素都被插入到已排序部分。这样，整个序列就会被排序。**\n",
    "\n",
    "##### 插入排序流程图:\n",
    "![这是图片](./流程图.png)"
   ]
  },
  {
   "cell_type": "code",
   "execution_count": null,
   "id": "e39d1d00",
   "metadata": {},
   "outputs": [],
   "source": []
  }
 ],
 "metadata": {
  "kernelspec": {
   "display_name": "Python 3",
   "language": "python",
   "name": "python3"
  },
  "language_info": {
   "codemirror_mode": {
    "name": "ipython",
    "version": 3
   },
   "file_extension": ".py",
   "mimetype": "text/x-python",
   "name": "python",
   "nbconvert_exporter": "python",
   "pygments_lexer": "ipython3",
   "version": "3.8.8"
  }
 },
 "nbformat": 4,
 "nbformat_minor": 5
}
