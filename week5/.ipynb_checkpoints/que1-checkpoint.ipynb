{
 "cells": [
  {
   "cell_type": "code",
   "execution_count": null,
   "id": "f563e6b0",
   "metadata": {},
   "outputs": [],
   "source": [
    "def is_primer(num):\n",
    "    if num == 2:\n",
    "        print(\"a primer\")\n",
    "        return\n",
    "    for i in range(2,int(num**0.5)+2):\n",
    "        if num % i == 0:\n",
    "            print(\"not a primer\")\n",
    "            return\n",
    "print(\"a primer\")\n",
    "num = int(input(\"输入整数:\"))\n",
    "is_primer(num)`"
   ]
  },
  {
   "cell_type": "markdown",
   "id": "26ace58a",
   "metadata": {},
   "source": []
  },
  {
   "cell_type": "code",
   "execution_count": null,
   "id": "504ab3ac",
   "metadata": {},
   "outputs": [],
   "source": []
  }
 ],
 "metadata": {
  "kernelspec": {
   "display_name": "Python 3",
   "language": "python",
   "name": "python3"
  },
  "language_info": {
   "codemirror_mode": {
    "name": "ipython",
    "version": 3
   },
   "file_extension": ".py",
   "mimetype": "text/x-python",
   "name": "python",
   "nbconvert_exporter": "python",
   "pygments_lexer": "ipython3",
   "version": "3.8.8"
  }
 },
 "nbformat": 4,
 "nbformat_minor": 5
}
