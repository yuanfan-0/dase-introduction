{
 "cells": [
  {
   "cell_type": "code",
   "execution_count": 12,
   "id": "f8e7502d",
   "metadata": {},
   "outputs": [
    {
     "name": "stdout",
     "output_type": "stream",
     "text": [
      "...开始计时...\n",
      "数据规模量:100 希尔排序耗时:\n",
      "耗时0.000000s\n",
      "...开始计时...\n",
      "数据规模量:1000 希尔排序耗时:\n",
      "耗时0.005282s\n",
      "...开始计时...\n",
      "数据规模量:10000 希尔排序耗时:\n",
      "耗时0.070013s\n",
      "...开始计时...\n",
      "数据规模量:100000 希尔排序耗时:\n",
      "耗时1.091666s\n",
      "...开始计时...\n",
      "数据规模量:1000000 希尔排序耗时:\n",
      "耗时17.363666s\n"
     ]
    }
   ],
   "source": [
    "import time\n",
    "import numpy as np\n",
    "class Timer():\n",
    "    def __init__(self):\n",
    "        self.start = 0\n",
    "        self.end = 0\n",
    "        self.last = 0\n",
    "    def begin(self):\n",
    "        self.start = time.time()\n",
    "        print(\"...开始计时...\")\n",
    "    def stop(self):\n",
    "        self.end = time.time()\n",
    "        self.last = self.end - self.start\n",
    "        print(\"耗时%.6lfs\"%(self.last))\n",
    "        \n",
    "def shell_sort(arr):\n",
    "    n = len(arr)\n",
    "    gap = n // 2  # 初始间隔取数组长度的一半\n",
    "\n",
    "    while gap > 0:\n",
    "        for i in range(gap, n):\n",
    "            temp = arr[i]\n",
    "            j = i\n",
    "\n",
    "            while j >= gap and arr[j - gap] > temp:\n",
    "                arr[j] = arr[j - gap]\n",
    "                j -= gap\n",
    "\n",
    "            arr[j] = temp\n",
    "\n",
    "        gap //= 2  # 减小间隔\n",
    "\n",
    "# 示例用法\n",
    "for i in [100,1000,10000,100000,1000000]:\n",
    "    arr = np.random.randint(i,size=i)\n",
    "    Time = Timer()\n",
    "    Time.begin()\n",
    "    shell_sort(arr)\n",
    "    print(\"数据规模量:%d 希尔排序耗时:\"%i )\n",
    "    Time.stop()\n",
    "    \n"
   ]
  },
  {
   "cell_type": "markdown",
   "id": "a823e689",
   "metadata": {},
   "source": [
    "**平均时间复杂度：O(Nlog2N)**\n",
    "\n",
    "**最差时间复杂度：O(N^2)**\n",
    "\n",
    "**空间复杂度：O(1)**"
   ]
  },
  {
   "cell_type": "code",
   "execution_count": null,
   "id": "239ef4d2",
   "metadata": {},
   "outputs": [],
   "source": []
  }
 ],
 "metadata": {
  "kernelspec": {
   "display_name": "Python 3",
   "language": "python",
   "name": "python3"
  },
  "language_info": {
   "codemirror_mode": {
    "name": "ipython",
    "version": 3
   },
   "file_extension": ".py",
   "mimetype": "text/x-python",
   "name": "python",
   "nbconvert_exporter": "python",
   "pygments_lexer": "ipython3",
   "version": "3.8.8"
  }
 },
 "nbformat": 4,
 "nbformat_minor": 5
}
