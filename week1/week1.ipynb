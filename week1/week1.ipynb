{
 "cells": [
  {
   "cell_type": "code",
   "execution_count": 1,
   "id": "15f15106",
   "metadata": {},
   "outputs": [
    {
     "name": "stdout",
     "output_type": "stream",
     "text": [
      "Hello World\n"
     ]
    }
   ],
   "source": [
    "print(\"Hello World\")"
   ]
  },
  {
   "cell_type": "code",
   "execution_count": 2,
   "id": "d18ac571",
   "metadata": {},
   "outputs": [
    {
     "name": "stdout",
     "output_type": "stream",
     "text": [
      "袁凡 10214304412\n"
     ]
    }
   ],
   "source": [
    "print(\"袁凡 10214304412\")"
   ]
  },
  {
   "cell_type": "code",
   "execution_count": 10,
   "id": "659e46c2",
   "metadata": {},
   "outputs": [
    {
     "name": "stdout",
     "output_type": "stream",
     "text": [
      "★★★★★★★★★★★\n",
      "★数据科学与工程导论★\n",
      "★★★★★★★★★★★"
     ]
    }
   ],
   "source": [
    "for i in range(11):\n",
    "    print(chr(0x2605),end='')\n",
    "print('')\n",
    "print(\"%s数据科学与工程导论%s\"%(chr(0x2605),chr(0x2605)))\n",
    "for i in range(11):\n",
    "    print(chr(0x2605),end='')"
   ]
  },
  {
   "cell_type": "code",
   "execution_count": 11,
   "id": "01269311",
   "metadata": {},
   "outputs": [
    {
     "name": "stdout",
     "output_type": "stream",
     "text": [
      "请输入a:5\n",
      "请输入b:8\n",
      "请输入c:4\n",
      "从小到大排序后的三个数为:\n",
      "4 5 8\n"
     ]
    }
   ],
   "source": [
    "def compare_three_numbers(a,b,c):\n",
    "    if a > b:\n",
    "        if a > c:\n",
    "            if b > c:\n",
    "                print(\"%d %d %d\"%(c,b,a))\n",
    "            else:\n",
    "                print(\"%d %d %d\"%(b,c,a))\n",
    "        else:\n",
    "            print(\"%d %d %d\"%(b,a,c))\n",
    "    else:\n",
    "        if c < a:\n",
    "            print(\"%d %d %d\"%(c,a,b))\n",
    "        else:\n",
    "            if b < c:\n",
    "                print(\"%d %d %d\"%(a,b,c))\n",
    "            else:\n",
    "                print(\"%d %d %d\"%(a,c,b))\n",
    "\n",
    "a=int(input(\"请输入a:\"))\n",
    "b=int(input(\"请输入b:\"))\n",
    "c=int(input(\"请输入c:\"))\n",
    "print(\"从小到大排序后的三个数为:\")\n",
    "compare_three_numbers(a,b,c)"
   ]
  },
  {
   "cell_type": "code",
   "execution_count": 13,
   "id": "1ff1fa90",
   "metadata": {},
   "outputs": [
    {
     "name": "stdout",
     "output_type": "stream",
     "text": [
      "请输入a:5\n",
      "请输入b:9\n",
      "请输入c:16\n",
      "请输入d:2\n",
      "从大到小排序后的四个数为:\n",
      "16 9 5 2 "
     ]
    }
   ],
   "source": [
    "def compare_four_numbers(a,b,c,d):\n",
    "    digit_list=[a,b,c,d]\n",
    "    for i in range(4):\n",
    "        max_digit=digit_list[i]\n",
    "        index_max=i\n",
    "        for j in range(i,4):\n",
    "            if digit_list[j] > max_digit:\n",
    "                index_max = j\n",
    "        digit_list[i],digit_list[index_max] = digit_list[index_max],digit_list[i]\n",
    "    for num in digit_list:\n",
    "        print(num,end=' ')\n",
    "\n",
    "a=int(input(\"请输入a:\"))\n",
    "b=int(input(\"请输入b:\"))\n",
    "c=int(input(\"请输入c:\"))\n",
    "d=int(input(\"请输入d:\"))\n",
    "print(\"从大到小排序后的四个数为:\")\n",
    "compare_four_numbers(a,b,c,d)"
   ]
  },
  {
   "cell_type": "code",
   "execution_count": 14,
   "id": "162f01b5",
   "metadata": {},
   "outputs": [
    {
     "name": "stdout",
     "output_type": "stream",
     "text": [
      "1 3 5 7 9 11 13 15 17 19 21 23 25 27 29 31 33 35 37 39 41 43 45 47 49 51 53 55 57 59 61 63 65 67 69 71 73 75 77 79 81 83 85 87 89 91 93 95 97 99 "
     ]
    }
   ],
   "source": [
    "for i in range(101):\n",
    "    if i % 2 != 0:\n",
    "        print(i,end=' ')\n",
    "    "
   ]
  },
  {
   "cell_type": "code",
   "execution_count": 16,
   "id": "f94237a2",
   "metadata": {},
   "outputs": [
    {
     "name": "stdout",
     "output_type": "stream",
     "text": [
      "5050\n"
     ]
    }
   ],
   "source": [
    "sum_digit=0\n",
    "for i in range(101):\n",
    "    sum_digit += i\n",
    "print(sum_digit)"
   ]
  },
  {
   "cell_type": "code",
   "execution_count": 23,
   "id": "94f340fa",
   "metadata": {},
   "outputs": [
    {
     "name": "stdout",
     "output_type": "stream",
     "text": [
      "请输入list(以空格分割):1 2 3 4 5\n",
      "5 4 3 2 1 "
     ]
    }
   ],
   "source": [
    "def reverse_list(list_item):\n",
    "    for i in list_item[::-1]:\n",
    "        print(i,end=' ')\n",
    "list1=input(\"请输入list(以空格分割):\").split(\" \")\n",
    "list2=[int(list1[i]) for i in range(len(list1))]\n",
    "\n",
    "reverse_list(list2)"
   ]
  },
  {
   "cell_type": "code",
   "execution_count": 26,
   "id": "3121c3e2",
   "metadata": {},
   "outputs": [
    {
     "name": "stdout",
     "output_type": "stream",
     "text": [
      "请输入字符串:aaddff\n",
      "Yes\n"
     ]
    }
   ],
   "source": [
    "def judge_same_chr(str_item):\n",
    "    for i in range(1,len(str_item)-1):\n",
    "        if str_item[i] == str_item[i-1] or str_item[i] == str_item[i+1]:\n",
    "            print(\"Yes\")\n",
    "            return\n",
    "    print(\"No\")\n",
    "str_item=input(\"请输入字符串:\")\n",
    "judge_same_chr(str_item)"
   ]
  },
  {
   "cell_type": "code",
   "execution_count": 31,
   "id": "8ed2334f",
   "metadata": {},
   "outputs": [
    {
     "name": "stdout",
     "output_type": "stream",
     "text": [
      "请输入字符串:asdasd adsd\n",
      "asdasdadsd\n"
     ]
    }
   ],
   "source": [
    "def remove_space(str_item):\n",
    "    str_list=list(str_item)\n",
    "    for i in range(len(str_list)):\n",
    "        if str_list[i] == ' ':\n",
    "            str_list[i] = ''\n",
    "    str_new = \"\".join(str_list)\n",
    "    print(str_new)\n",
    "str_item=input(\"请输入字符串:\")\n",
    "remove_space(str_item)"
   ]
  },
  {
   "cell_type": "code",
   "execution_count": 10,
   "id": "fc92307c",
   "metadata": {},
   "outputs": [
    {
     "name": "stdout",
     "output_type": "stream",
     "text": [
      "请输入整数:8\n",
      "2\n"
     ]
    }
   ],
   "source": [
    "def cubic_root(digit):\n",
    "    for i in range(0,digit+1):\n",
    "            if i**3 == digit:\n",
    "                print(i)\n",
    "                return                                  \n",
    "    print(\"无整数三次方根!\")\n",
    "digit = int(input(\"请输入整数:\"))\n",
    "cubic_root(digit)"
   ]
  },
  {
   "cell_type": "code",
   "execution_count": 5,
   "id": "67399a9b",
   "metadata": {},
   "outputs": [
    {
     "name": "stdout",
     "output_type": "stream",
     "text": [
      "请输入数字:10\n",
      "3628800\n"
     ]
    }
   ],
   "source": [
    "def factorial(digit):\n",
    "    if digit == 0:\n",
    "        print(1)\n",
    "        return\n",
    "    ans = 1\n",
    "    for i in range(1,digit+1):\n",
    "        ans *= i\n",
    "    print(ans)\n",
    "digit = int(input(\"请输入数字:\"))\n",
    "factorial(digit)"
   ]
  },
  {
   "cell_type": "code",
   "execution_count": null,
   "id": "98225112",
   "metadata": {},
   "outputs": [],
   "source": []
  },
  {
   "cell_type": "code",
   "execution_count": null,
   "id": "af7a604c",
   "metadata": {},
   "outputs": [],
   "source": []
  }
 ],
 "metadata": {
  "kernelspec": {
   "display_name": "Python 3",
   "language": "python",
   "name": "python3"
  },
  "language_info": {
   "codemirror_mode": {
    "name": "ipython",
    "version": 3
   },
   "file_extension": ".py",
   "mimetype": "text/x-python",
   "name": "python",
   "nbconvert_exporter": "python",
   "pygments_lexer": "ipython3",
   "version": "3.8.8"
  }
 },
 "nbformat": 4,
 "nbformat_minor": 5
}
