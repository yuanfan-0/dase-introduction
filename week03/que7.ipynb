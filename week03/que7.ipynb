{
 "cells": [
  {
   "cell_type": "code",
   "execution_count": 9,
   "id": "384dd166",
   "metadata": {},
   "outputs": [
    {
     "name": "stdout",
     "output_type": "stream",
     "text": [
      "请输入数num1和num2：16 4\n",
      "16和4的最大公约数为:4\n"
     ]
    }
   ],
   "source": [
    "def gcd(num1, num2):\n",
    "    temp = max(num1,num2) // 2 + 1\n",
    "    if num1 < temp:\n",
    "        temp = num1\n",
    "    for i in range(temp,0,-1):\n",
    "        if num1 % i == 0 and num2 % i == 0:\n",
    "            print(\"%d和%d的最大公约数为:%d\"%(num1,num2,i))\n",
    "            return\n",
    "\n",
    "nums = input(\"请输入数num1和num2：\")\n",
    "\n",
    "num_list = nums.split(\" \")\n",
    "\n",
    "num1 =  int(num_list[0])\n",
    "\n",
    "num2 = int(num_list[1])\n",
    "\n",
    "gcd(num1,num2)"
   ]
  },
  {
   "cell_type": "code",
   "execution_count": null,
   "id": "3ed7e972",
   "metadata": {},
   "outputs": [],
   "source": []
  },
  {
   "cell_type": "code",
   "execution_count": null,
   "id": "f6649aab",
   "metadata": {},
   "outputs": [],
   "source": []
  }
 ],
 "metadata": {
  "kernelspec": {
   "display_name": "Python 3",
   "language": "python",
   "name": "python3"
  },
  "language_info": {
   "codemirror_mode": {
    "name": "ipython",
    "version": 3
   },
   "file_extension": ".py",
   "mimetype": "text/x-python",
   "name": "python",
   "nbconvert_exporter": "python",
   "pygments_lexer": "ipython3",
   "version": "3.8.8"
  }
 },
 "nbformat": 4,
 "nbformat_minor": 5
}
