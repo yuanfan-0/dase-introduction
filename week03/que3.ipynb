{
 "cells": [
  {
   "cell_type": "code",
   "execution_count": 4,
   "id": "0c022b7a",
   "metadata": {},
   "outputs": [
    {
     "name": "stdout",
     "output_type": "stream",
     "text": [
      "请输入身份证号码：362322200708310651\n",
      "身份证号码非法!\n"
     ]
    }
   ],
   "source": [
    "import re\n",
    "\n",
    "def validate_id_card(id_card):\n",
    "    # 定义身份证号码的正则表达式模式\n",
    "    pattern = r'^[1-9]\\d{5}(18|19|20)\\d{2}(0[1-9]|1[0-2])(0[1-9]|[12]\\d|3[01])\\d{3}[\\dXx]$'\n",
    "\n",
    "    # 使用正则表达式匹配身份证号码\n",
    "    if re.match(pattern, id_card):\n",
    "        if len(id_card) == 18:\n",
    "            # 验证校验位\n",
    "            factors = [7, 9, 10, 5, 8, 4, 2, 1, 6, 3, 7, 9, 10, 5, 8, 4, 2]\n",
    "            checksum = 0\n",
    "            for i in range(17):\n",
    "                checksum += int(id_card[i]) * factors[i]\n",
    "            remainder = checksum % 11\n",
    "            check_digit = '10X98765432'[remainder]\n",
    "            if id_card[-1].upper() == check_digit:\n",
    "                return True\n",
    "        elif len(id_card) == 15:\n",
    "            return True  # 15位身份证不校验校验位\n",
    "    return False\n",
    "\n",
    "\n",
    "id_card = input(\"请输入身份证号码：\")\n",
    "\n",
    "if validate_id_card(id_card):\n",
    "    print(\"身份证号码合法!\")\n",
    "else:\n",
    "    print(\"身份证号码非法!\")\n"
   ]
  },
  {
   "cell_type": "code",
   "execution_count": null,
   "id": "b2c20ac9",
   "metadata": {},
   "outputs": [],
   "source": []
  }
 ],
 "metadata": {
  "kernelspec": {
   "display_name": "Python 3",
   "language": "python",
   "name": "python3"
  },
  "language_info": {
   "codemirror_mode": {
    "name": "ipython",
    "version": 3
   },
   "file_extension": ".py",
   "mimetype": "text/x-python",
   "name": "python",
   "nbconvert_exporter": "python",
   "pygments_lexer": "ipython3",
   "version": "3.8.8"
  }
 },
 "nbformat": 4,
 "nbformat_minor": 5
}
