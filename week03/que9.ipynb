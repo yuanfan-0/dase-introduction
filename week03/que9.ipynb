{
 "cells": [
  {
   "cell_type": "code",
   "execution_count": 21,
   "id": "281d21cd",
   "metadata": {},
   "outputs": [
    {
     "name": "stdout",
     "output_type": "stream",
     "text": [
      "[35184372088832, 0, 470184984576, 1073741824, 1, 35184372088832, 32768, 4747561509943, 205891132094649, 1000000000000000, 32768, 1073741824, 4747561509943, 30517578125, 14348907, 1]\n"
     ]
    }
   ],
   "source": [
    "import random\n",
    "def list_construct():\n",
    "    count = random.randint(10,20) #可更改随机数范围\n",
    "    A = [random.randint(0,10) for i in range(count)]\n",
    "    B=[]\n",
    "    for j in range(len(A)):\n",
    "        value = 1\n",
    "        for k in range(len(A)):\n",
    "            if k!=j:\n",
    "                value *= A[j]\n",
    "        B.append(value)\n",
    "\n",
    "    print(B)\n",
    "\n",
    "list_construct()"
   ]
  },
  {
   "cell_type": "code",
   "execution_count": null,
   "id": "35da9e4b",
   "metadata": {},
   "outputs": [],
   "source": []
  },
  {
   "cell_type": "code",
   "execution_count": null,
   "id": "f33f3bb7",
   "metadata": {},
   "outputs": [],
   "source": []
  }
 ],
 "metadata": {
  "kernelspec": {
   "display_name": "Python 3",
   "language": "python",
   "name": "python3"
  },
  "language_info": {
   "codemirror_mode": {
    "name": "ipython",
    "version": 3
   },
   "file_extension": ".py",
   "mimetype": "text/x-python",
   "name": "python",
   "nbconvert_exporter": "python",
   "pygments_lexer": "ipython3",
   "version": "3.8.8"
  }
 },
 "nbformat": 4,
 "nbformat_minor": 5
}
