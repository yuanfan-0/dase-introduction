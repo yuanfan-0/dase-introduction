{
 "cells": [
  {
   "cell_type": "code",
   "execution_count": 5,
   "id": "240d20b3",
   "metadata": {},
   "outputs": [
    {
     "name": "stdout",
     "output_type": "stream",
     "text": [
      "生成的随机数为:10.342324\n"
     ]
    }
   ],
   "source": [
    "import random\n",
    "def random_float():\n",
    "    return random.uniform(10,20)\n",
    "\n",
    "print(\"生成的随机数为:%f\"%(random_float()))"
   ]
  },
  {
   "cell_type": "code",
   "execution_count": null,
   "id": "8e00fe41",
   "metadata": {},
   "outputs": [],
   "source": []
  },
  {
   "cell_type": "code",
   "execution_count": null,
   "id": "478cbb8c",
   "metadata": {},
   "outputs": [],
   "source": []
  }
 ],
 "metadata": {
  "kernelspec": {
   "display_name": "Python 3",
   "language": "python",
   "name": "python3"
  },
  "language_info": {
   "codemirror_mode": {
    "name": "ipython",
    "version": 3
   },
   "file_extension": ".py",
   "mimetype": "text/x-python",
   "name": "python",
   "nbconvert_exporter": "python",
   "pygments_lexer": "ipython3",
   "version": "3.8.8"
  }
 },
 "nbformat": 4,
 "nbformat_minor": 5
}
