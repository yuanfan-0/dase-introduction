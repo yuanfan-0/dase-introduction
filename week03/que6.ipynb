{
 "cells": [
  {
   "cell_type": "code",
   "execution_count": 3,
   "id": "a3d113e2",
   "metadata": {},
   "outputs": [
    {
     "name": "stdout",
     "output_type": "stream",
     "text": [
      "请输入分数:99\n",
      "评定等级：\n",
      "优秀\n"
     ]
    }
   ],
   "source": [
    "def evaluate_grade( score ):\n",
    "    if score < 60:\n",
    "        print(\"不合格\")\n",
    "    elif score>=60 and score < 75:\n",
    "        print(\"合格\")\n",
    "    elif score >= 75 and score <90:\n",
    "        print(\"良好\")\n",
    "    else:\n",
    "        print(\"优秀\")\n",
    "score = int(input(\"请输入分数:\"))\n",
    "print(\"评定等级：\")\n",
    "evaluate_grade(score)"
   ]
  },
  {
   "cell_type": "code",
   "execution_count": null,
   "id": "c257d0b7",
   "metadata": {},
   "outputs": [],
   "source": []
  }
 ],
 "metadata": {
  "kernelspec": {
   "display_name": "Python 3",
   "language": "python",
   "name": "python3"
  },
  "language_info": {
   "codemirror_mode": {
    "name": "ipython",
    "version": 3
   },
   "file_extension": ".py",
   "mimetype": "text/x-python",
   "name": "python",
   "nbconvert_exporter": "python",
   "pygments_lexer": "ipython3",
   "version": "3.8.8"
  }
 },
 "nbformat": 4,
 "nbformat_minor": 5
}
