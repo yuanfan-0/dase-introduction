{
 "cells": [
  {
   "cell_type": "code",
   "execution_count": 12,
   "id": "26ef473c",
   "metadata": {},
   "outputs": [
    {
     "name": "stdout",
     "output_type": "stream",
     "text": [
      "选择排序100个数耗时0.411200ms\n",
      "归并排序100个数耗时0.210900ms\n",
      "选择排序1000个数耗时39.908000ms\n",
      "归并排序1000个数耗时2.765700ms\n",
      "选择排序10000个数耗时3851.368800ms\n",
      "归并排序10000个数耗时29.807500ms\n"
     ]
    }
   ],
   "source": [
    "import time\n",
    "import random\n",
    "#选择排序\n",
    "def select_sort(sort_array):\n",
    "    for i in range(0,len(sort_array)):\n",
    "        min_index = i\n",
    "        for j in range(i+1,len(sort_array)):\n",
    "            if sort_array[j] < sort_array[min_index]:\n",
    "                 sort_array[i],sort_array[min_index] = sort_array[min_index],sort_array[i]\n",
    "\n",
    "#归并排序\n",
    "def merge(sort_array,left,mid,right):\n",
    "    array1 = sort_array[left:mid+1]\n",
    "    array2 = sort_array[mid+1:right+1]\n",
    "    index = left\n",
    "    i = 0\n",
    "    j = 0\n",
    "    while i < len(array1) and j < len(array2):\n",
    "        if array1[i] < array2[j]:\n",
    "            sort_array[index] = array1[i]\n",
    "            i += 1\n",
    "            index += 1\n",
    "        else:\n",
    "            sort_array[index] = array2[j]\n",
    "            j += 1\n",
    "            index += 1\n",
    "    while i < len(array1):\n",
    "        sort_array[index] = array1[i]\n",
    "        i += 1\n",
    "        index += 1\n",
    "    while j < len(array2):\n",
    "        sort_array[index] = array2[j]\n",
    "        j += 1\n",
    "        index += 1   \n",
    "\n",
    "def merge_sort(sort_array,left,right):\n",
    "    if right - left < 1:\n",
    "        return\n",
    "    mid = (left + right) // 2\n",
    "    merge_sort(sort_array,left,mid)\n",
    "    merge_sort(sort_array,mid+1,right)\n",
    "    merge(sort_array,left,mid,right)\n",
    "\n",
    "    \n",
    "def time_compare_selectSort_and_mergeSort():\n",
    "    \n",
    "    for i in [100,1000,10000]:\n",
    "        array1 = [random.randint(0,i) for j in range(i)]\n",
    "        array2 = [0 for j in range(i)]\n",
    "        for k in range(0,len(array2)):\n",
    "            array2[k] = array1[k]\n",
    "        \n",
    "\n",
    "        start1 = time.perf_counter()\n",
    "        select_sort(array1)\n",
    "        end1 = time.perf_counter()\n",
    "        print(\"选择排序%d个数耗时%.6fms\"%(i,(end1 - start1)*1000))\n",
    "        start2 = time.perf_counter()\n",
    "        merge_sort(array2,0,len(array2)-1)\n",
    "        end2 = time.perf_counter()\n",
    "        print(\"归并排序%d个数耗时%.6fms\"%(i,(end2 - start2)*1000))\n",
    "        \n",
    "time_compare_selectSort_and_mergeSort()\n",
    "    "
   ]
  },
  {
   "cell_type": "code",
   "execution_count": null,
   "id": "e6119762",
   "metadata": {},
   "outputs": [],
   "source": []
  }
 ],
 "metadata": {
  "kernelspec": {
   "display_name": "Python 3",
   "language": "python",
   "name": "python3"
  },
  "language_info": {
   "codemirror_mode": {
    "name": "ipython",
    "version": 3
   },
   "file_extension": ".py",
   "mimetype": "text/x-python",
   "name": "python",
   "nbconvert_exporter": "python",
   "pygments_lexer": "ipython3",
   "version": "3.8.8"
  }
 },
 "nbformat": 4,
 "nbformat_minor": 5
}
