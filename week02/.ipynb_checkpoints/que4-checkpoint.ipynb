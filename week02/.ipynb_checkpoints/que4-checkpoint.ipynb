{
 "cells": [
  {
   "cell_type": "code",
   "execution_count": 2,
   "id": "2807fec4",
   "metadata": {},
   "outputs": [
    {
     "name": "stdout",
     "output_type": "stream",
     "text": [
      "1.4140625\n"
     ]
    }
   ],
   "source": [
    "import math\n",
    "def sqrt_2():\n",
    "    left = 1\n",
    "    right = 2\n",
    "    target = 0 \n",
    "    while(math.fabs(target * target - 2.0) > 0.001):\n",
    "        target = (left + right) / 2\n",
    "        if target * target > 2.0:\n",
    "            right = target\n",
    "        else:\n",
    "            left = target\n",
    "    print(target)\n",
    "sqrt_2()\n",
    "    "
   ]
  },
  {
   "cell_type": "code",
   "execution_count": null,
   "id": "1c496e0a",
   "metadata": {},
   "outputs": [],
   "source": []
  }
 ],
 "metadata": {
  "kernelspec": {
   "display_name": "Python 3",
   "language": "python",
   "name": "python3"
  },
  "language_info": {
   "codemirror_mode": {
    "name": "ipython",
    "version": 3
   },
   "file_extension": ".py",
   "mimetype": "text/x-python",
   "name": "python",
   "nbconvert_exporter": "python",
   "pygments_lexer": "ipython3",
   "version": "3.8.8"
  }
 },
 "nbformat": 4,
 "nbformat_minor": 5
}
