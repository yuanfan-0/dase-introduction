{
 "cells": [
  {
   "cell_type": "markdown",
   "id": "15d14e2a",
   "metadata": {},
   "source": [
    "( 1 )当n = 2001时，所求正整数列为 [3 3 3 3 3 3 3 3 3 3 3 3 .......3 3 3 3 3 3 3 3 3 ]\n",
    "\n",
    "( 2 )采用动态规划的方法求解，至底向上的方法"
   ]
  },
  {
   "cell_type": "code",
   "execution_count": 2,
   "id": "28e1e86f",
   "metadata": {},
   "outputs": [
    {
     "name": "stdout",
     "output_type": "stream",
     "text": [
      "请输入正整数:2001\n",
      "正整数2001的正整数列为:\n",
      "3 3 3 3 3 3 3 3 3 3 3 3 3 3 3 3 3 3 3 3 3 3 3 3 3 3 3 3 3 3 3 3 3 3 3 3 3 3 3 3 3 3 3 3 3 3 3 3 3 3 3 3 3 3 3 3 3 3 3 3 3 3 3 3 3 3 3 3 3 3 3 3 3 3 3 3 3 3 3 3 3 3 3 3 3 3 3 3 3 3 3 3 3 3 3 3 3 3 3 3 3 3 3 3 3 3 3 3 3 3 3 3 3 3 3 3 3 3 3 3 3 3 3 3 3 3 3 3 3 3 3 3 3 3 3 3 3 3 3 3 3 3 3 3 3 3 3 3 3 3 3 3 3 3 3 3 3 3 3 3 3 3 3 3 3 3 3 3 3 3 3 3 3 3 3 3 3 3 3 3 3 3 3 3 3 3 3 3 3 3 3 3 3 3 3 3 3 3 3 3 3 3 3 3 3 3 3 3 3 3 3 3 3 3 3 3 3 3 3 3 3 3 3 3 3 3 3 3 3 3 3 3 3 3 3 3 3 3 3 3 3 3 3 3 3 3 3 3 3 3 3 3 3 3 3 3 3 3 3 3 3 3 3 3 3 3 3 3 3 3 3 3 3 3 3 3 3 3 3 3 3 3 3 3 3 3 3 3 3 3 3 3 3 3 3 3 3 3 3 3 3 3 3 3 3 3 3 3 3 3 3 3 3 3 3 3 3 3 3 3 3 3 3 3 3 3 3 3 3 3 3 3 3 3 3 3 3 3 3 3 3 3 3 3 3 3 3 3 3 3 3 3 3 3 3 3 3 3 3 3 3 3 3 3 3 3 3 3 3 3 3 3 3 3 3 3 3 3 3 3 3 3 3 3 3 3 3 3 3 3 3 3 3 3 3 3 3 3 3 3 3 3 3 3 3 3 3 3 3 3 3 3 3 3 3 3 3 3 3 3 3 3 3 3 3 3 3 3 3 3 3 3 3 3 3 3 3 3 3 3 3 3 3 3 3 3 3 3 3 3 3 3 3 3 3 3 3 3 3 3 3 3 3 3 3 3 3 3 3 3 3 3 3 3 3 3 3 3 3 3 3 3 3 3 3 3 3 3 3 3 3 3 3 3 3 3 3 3 3 3 3 3 3 3 3 3 3 3 3 3 3 3 3 3 3 3 3 3 3 3 3 3 3 3 3 3 3 3 3 3 3 3 3 3 3 3 3 3 3 3 3 3 3 3 3 3 3 3 3 3 3 3 3 3 3 3 3 3 3 3 3 3 3 3 3 3 3 3 3 3 3 3 3 3 3 3 3 3 3 3 3 3 3 3 3 3 3 3 3 3 3 3 3 3 3 3 3 3 3 3 3 3 3 3 3 3 3 3 3 3 3 3 3 3 3 3 3 3 3 3 3 3 3 3 3 3 3 3 3 3 3 3 3 3 3 3 3 3 3 3 3 3 3 3 3 3 3 3 3 3 3 3 3 3 3 3 3 3 3 3 3 3 3 3 3 3 3 "
     ]
    }
   ],
   "source": [
    "#采用动态规划的方法求解，至底向上的方法\n",
    "def list_of_positive_integers(num):\n",
    "    list_nums = [[0 for i in range(num*2)] for j in range(num*2)]  #设置初始承载每个数正整数列的容器\n",
    "    \n",
    "    #设置数值0和1的正整数列信息\n",
    "    list_nums[0][0] = list_nums[0][1] = 0\n",
    "    list_nums[1][0] = list_nums[1][1] = list_nums[1][2] = 1\n",
    "    \n",
    "    #至底向上实现正整数列\n",
    "    for i in range(2,num+1):\n",
    "        index = i\n",
    "        max_value = i\n",
    "       \n",
    "        for j in range(1,i):\n",
    "            if list_nums[j][0] * (i - j) > max_value :\n",
    "                index = j\n",
    "                max_value = list_nums[j][0] * (i-j)\n",
    "      \n",
    "        if index == i:\n",
    "            list_nums[index][0] = max_value\n",
    "            list_nums[index][1] = 1\n",
    "            list_nums[index][2] = max_value\n",
    "            \n",
    "        else: \n",
    "            list_nums[i][0] = max_value\n",
    "            list_nums[i][1] = list_nums[index][1] + 1\n",
    "            for k in range(2,list_nums[index][1] + 2):\n",
    "                list_nums[i][k] = list_nums[index][k]\n",
    "            list_nums[i][list_nums[index][1] + 2] = i - index\n",
    "        \n",
    "    print(\"正整数%d的正整数列为:\"%num)\n",
    "    for digit in range(2,list_nums[num][1]+2):\n",
    "        print(list_nums[num][digit],end=' ')\n",
    "\n",
    "num = int(input(\"请输入正整数:\"))\n",
    "list_of_positive_integers(num)"
   ]
  },
  {
   "cell_type": "code",
   "execution_count": null,
   "id": "ac20da7f",
   "metadata": {},
   "outputs": [],
   "source": []
  }
 ],
 "metadata": {
  "kernelspec": {
   "display_name": "Python 3",
   "language": "python",
   "name": "python3"
  },
  "language_info": {
   "codemirror_mode": {
    "name": "ipython",
    "version": 3
   },
   "file_extension": ".py",
   "mimetype": "text/x-python",
   "name": "python",
   "nbconvert_exporter": "python",
   "pygments_lexer": "ipython3",
   "version": "3.8.8"
  }
 },
 "nbformat": 4,
 "nbformat_minor": 5
}
