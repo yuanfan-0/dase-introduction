{
 "cells": [
  {
   "cell_type": "code",
   "execution_count": 1,
   "id": "7cbd1603",
   "metadata": {},
   "outputs": [
    {
     "name": "stdout",
     "output_type": "stream",
     "text": [
      "2的10次方为:1024\n",
      "2的20次方为:1048576\n",
      "2的30次方为:1073741824\n",
      "2的40次方为:1099511627776\n",
      "2的50次方为:1125899906842624\n"
     ]
    }
   ],
   "source": [
    "def pow_2():\n",
    "    print(\"2的10次方为:%d\"%2**10)\n",
    "    print(\"2的20次方为:%d\"%2**20)\n",
    "    print(\"2的30次方为:%d\"%2**30)\n",
    "    print(\"2的40次方为:%d\"%2**40)\n",
    "    print(\"2的50次方为:%d\"%2**50)\n",
    "pow_2()"
   ]
  },
  {
   "cell_type": "markdown",
   "id": "f11135dd",
   "metadata": {},
   "source": [
    "**观察结果,发现2的n次方计算随n变大增长的很快**"
   ]
  },
  {
   "cell_type": "code",
   "execution_count": null,
   "id": "3b8bb00b",
   "metadata": {},
   "outputs": [],
   "source": []
  }
 ],
 "metadata": {
  "kernelspec": {
   "display_name": "Python 3",
   "language": "python",
   "name": "python3"
  },
  "language_info": {
   "codemirror_mode": {
    "name": "ipython",
    "version": 3
   },
   "file_extension": ".py",
   "mimetype": "text/x-python",
   "name": "python",
   "nbconvert_exporter": "python",
   "pygments_lexer": "ipython3",
   "version": "3.8.8"
  }
 },
 "nbformat": 4,
 "nbformat_minor": 5
}
