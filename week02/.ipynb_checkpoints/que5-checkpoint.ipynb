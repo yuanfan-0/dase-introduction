{
 "cells": [
  {
   "cell_type": "code",
   "execution_count": 7,
   "id": "0f1ff7d8",
   "metadata": {},
   "outputs": [
    {
     "name": "stdout",
     "output_type": "stream",
     "text": [
      "c设为2的运行结果为:1.4142\n",
      "c设为2000的运行结果为:44.7214\n"
     ]
    }
   ],
   "source": [
    "def newton(c):\n",
    "    g = c / 2\n",
    "    while(abs( g * g - c) > 0.0000001):\n",
    "        g = (g + c/g)/2\n",
    "    print('c设为%d的运行结果为:%.4f'%(c,g))\n",
    "newton(2)\n",
    "newton(2000)"
   ]
  },
  {
   "cell_type": "code",
   "execution_count": null,
   "id": "e6d2e7bc",
   "metadata": {},
   "outputs": [],
   "source": []
  }
 ],
 "metadata": {
  "kernelspec": {
   "display_name": "Python 3",
   "language": "python",
   "name": "python3"
  },
  "language_info": {
   "codemirror_mode": {
    "name": "ipython",
    "version": 3
   },
   "file_extension": ".py",
   "mimetype": "text/x-python",
   "name": "python",
   "nbconvert_exporter": "python",
   "pygments_lexer": "ipython3",
   "version": "3.8.8"
  }
 },
 "nbformat": 4,
 "nbformat_minor": 5
}
