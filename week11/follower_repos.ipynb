{
 "cells": [
  {
   "cell_type": "code",
   "execution_count": 2,
   "id": "a028beb4",
   "metadata": {},
   "outputs": [],
   "source": [
    "import requests\n",
    "import json\n",
    "\n",
    "# 请替换为你自己的个人访问令牌\n",
    "token = '#已注释'\n",
    "\n",
    "username = \"yuanfan-0\"\n",
    "\n",
    "# 获取关注者列表\n",
    "def get_followers(username):\n",
    "    url = f\"https://api.github.com/users/{username}/followers\"\n",
    "    response = requests.get(url, auth=(username, token))\n",
    "    followers = response.json()\n",
    "    return followers\n",
    "\n",
    "# 获取用户仓库数据\n",
    "def get_repositories(username):\n",
    "    url = f\"https://api.github.com/users/{username}/repos\"\n",
    "    response = requests.get(url, auth=(username, token))\n",
    "    repositories = response.json()\n",
    "    return repositories\n",
    "\n",
    "# 存储数据到本地\n",
    "def save_to_file(data, filename):\n",
    "    with open(filename, 'w') as file:\n",
    "        json.dump(data, file, indent=2)\n",
    "\n",
    "# 获取关注者\n",
    "followers = get_followers(username)\n",
    "\n",
    "# 获取每个关注者的仓库数据\n",
    "all_repositories = []\n",
    "for follower in followers:\n",
    "    repositories = get_repositories(follower['login'])\n",
    "    all_repositories.extend(repositories)\n",
    "\n",
    "# 存储数据到本地\n",
    "save_to_file(all_repositories, 'follower_repositories.json')\n"
   ]
  },
  {
   "cell_type": "code",
   "execution_count": null,
   "id": "bf2938e0",
   "metadata": {},
   "outputs": [],
   "source": []
  }
 ],
 "metadata": {
  "kernelspec": {
   "display_name": "Python 3 (ipykernel)",
   "language": "python",
   "name": "python3"
  },
  "language_info": {
   "codemirror_mode": {
    "name": "ipython",
    "version": 3
   },
   "file_extension": ".py",
   "mimetype": "text/x-python",
   "name": "python",
   "nbconvert_exporter": "python",
   "pygments_lexer": "ipython3",
   "version": "3.11.5"
  }
 },
 "nbformat": 4,
 "nbformat_minor": 5
}
